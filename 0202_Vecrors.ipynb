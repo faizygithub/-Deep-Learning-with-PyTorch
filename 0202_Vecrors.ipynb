{
  "nbformat": 4,
  "nbformat_minor": 0,
  "metadata": {
    "colab": {
      "name": "0202_Vecrors.ipynb",
      "provenance": [],
      "collapsed_sections": [],
      "include_colab_link": true
    },
    "kernelspec": {
      "name": "python3",
      "display_name": "Python 3"
    }
  },
  "cells": [
    {
      "cell_type": "markdown",
      "metadata": {
        "id": "view-in-github",
        "colab_type": "text"
      },
      "source": [
        "<a href=\"https://colab.research.google.com/github/faizygithub/-Deep-Learning-with-PyTorch/blob/master/0202_Vecrors.ipynb\" target=\"_parent\"><img src=\"https://colab.research.google.com/assets/colab-badge.svg\" alt=\"Open In Colab\"/></a>"
      ]
    },
    {
      "cell_type": "code",
      "metadata": {
        "id": "LwJEAy6iTEI8",
        "colab_type": "code",
        "colab": {}
      },
      "source": [
        "import numpy as np\n",
        "import matplotlib.pyplot as plt"
      ],
      "execution_count": 0,
      "outputs": []
    },
    {
      "cell_type": "code",
      "metadata": {
        "id": "HSBhzwaoTTwe",
        "colab_type": "code",
        "outputId": "9e88a973-ebce-456f-9043-fbd1284b3044",
        "colab": {
          "base_uri": "https://localhost:8080/",
          "height": 269
        }
      },
      "source": [
        "plt.quiver(0,0,3,4)\n",
        "plt.show()\n"
      ],
      "execution_count": 0,
      "outputs": [
        {
          "output_type": "display_data",
          "data": {
            "image/png": "[encoded data removed]",
            "text/plain": [
              "<Figure size 432x288 with 1 Axes>"
            ]
          },
          "metadata": {
            "tags": []
          }
        }
      ]
    },
    {
      "cell_type": "code",
      "metadata": {
        "id": "IxAPomOJTqYA",
        "colab_type": "code",
        "outputId": "5660e73c-98ce-4fe8-a5cc-14f868f0c0c6",
        "colab": {
          "base_uri": "https://localhost:8080/",
          "height": 269
        }
      },
      "source": [
        "plt.quiver(0,0,3,4,scale_units='xy',angles='xy',scale=1)\n",
        "plt.show()"
      ],
      "execution_count": 0,
      "outputs": [
        {
          "output_type": "display_data",
          "data": {
            "image/png": "[encoded data removed]",
            "text/plain": [
              "<Figure size 432x288 with 1 Axes>"
            ]
          },
          "metadata": {
            "tags": []
          }
        }
      ]
    },
    {
      "cell_type": "code",
      "metadata": {
        "id": "Glr-RP-LT5iy",
        "colab_type": "code",
        "outputId": "b2583139-4b96-4a3c-88a7-4e730499b9d9",
        "colab": {
          "base_uri": "https://localhost:8080/",
          "height": 269
        }
      },
      "source": [
        "plt.quiver(0,0,3,4,scale_units='xy',angles='xy',scale=1)\n",
        "plt.xlim(-10,10)\n",
        "plt.ylim(-10,10)\n",
        "plt.show()"
      ],
      "execution_count": 0,
      "outputs": [
        {
          "output_type": "display_data",
          "data": {
            "image/png": "[encoded data removed]",
            "text/plain": [
              "<Figure size 432x288 with 1 Axes>"
            ]
          },
          "metadata": {
            "tags": []
          }
        }
      ]
    },
    {
      "cell_type": "code",
      "metadata": {
        "id": "sv5DbxxNUe1D",
        "colab_type": "code",
        "outputId": "ab225d8f-1960-4750-d4b7-cc4f5bb121a0",
        "colab": {
          "base_uri": "https://localhost:8080/",
          "height": 269
        }
      },
      "source": [
        "plt.quiver(0,0,3,4,scale_units='xy',angles='xy',scale=1,color='r')\n",
        "plt.quiver(0,0,-3,4,scale_units='xy',angles='xy',scale=1,color='g')\n",
        "plt.xlim(-10,10)\n",
        "plt.ylim(-10,10)\n",
        "plt.show()"
      ],
      "execution_count": 0,
      "outputs": [
        {
          "output_type": "display_data",
          "data": {
            "image/png": "[encoded data removed]",
            "text/plain": [
              "<Figure size 432x288 with 1 Axes>"
            ]
          },
          "metadata": {
            "tags": []
          }
        }
      ]
    },
    {
      "cell_type": "code",
      "metadata": {
        "id": "mLPj36qhVDSR",
        "colab_type": "code",
        "colab": {}
      },
      "source": [
        "def plot_vectors(vecs):\n",
        "  colors=['r','b','g','y']\n",
        "  i=0\n",
        "  for vec in vecs:\n",
        "    print(vec)\n",
        "    plt.quiver(vec[0],vec[1],vec[2],vec[3],scale_units='xy',angles='xy',scale=1,color=colors[i%len(colors)])\n",
        "    print(i%len(colors))\n",
        "    i+=1\n",
        "  plt.xlim(-10,10)\n",
        "  plt.ylim(-10,10)\n",
        "  plt.show()"
      ],
      "execution_count": 0,
      "outputs": []
    },
    {
      "cell_type": "code",
      "metadata": {
        "id": "8PJrWfhuW546",
        "colab_type": "code",
        "outputId": "2e672cff-70ee-4c70-8e32-6c544e2296fc",
        "colab": {
          "base_uri": "https://localhost:8080/",
          "height": 405
        }
      },
      "source": [
        "plot_vectors([(0,0,3,4),(0,0,-3,4),(0,0,-3,-2),(0,0,4,-1)])"
      ],
      "execution_count": 0,
      "outputs": [
        {
          "output_type": "stream",
          "text": [
            "(0, 0, 3, 4)\n",
            "0\n",
            "(0, 0, -3, 4)\n",
            "1\n",
            "(0, 0, -3, -2)\n",
            "2\n",
            "(0, 0, 4, -1)\n",
            "3\n"
          ],
          "name": "stdout"
        },
        {
          "output_type": "display_data",
          "data": {
            "image/png": "[encoded data removed]",
            "text/plain": [
              "<Figure size 432x288 with 1 Axes>"
            ]
          },
          "metadata": {
            "tags": []
          }
        }
      ]
    },
    {
      "cell_type": "markdown",
      "metadata": {
        "id": "Nkljw_OVhn3Y",
        "colab_type": "text"
      },
      "source": [
        "#Vector addition and Substraction"
      ]
    },
    {
      "cell_type": "code",
      "metadata": {
        "id": "JTJWwNqvXHCe",
        "colab_type": "code",
        "colab": {}
      },
      "source": [
        "vecs=[(0,0,3,4),(0,0,-3,4),(0,0,-3,-2),(0,0,4,-1)]"
      ],
      "execution_count": 0,
      "outputs": []
    },
    {
      "cell_type": "code",
      "metadata": {
        "id": "uczAbjL6ZIFG",
        "colab_type": "code",
        "outputId": "5ced05a0-021f-407a-f2ab-77c7f84766ec",
        "colab": {
          "base_uri": "https://localhost:8080/",
          "height": 337
        }
      },
      "source": [
        "plot_vectors([vecs[0],vecs[3]])\n"
      ],
      "execution_count": 0,
      "outputs": [
        {
          "output_type": "stream",
          "text": [
            "(0, 0, 3, 4)\n",
            "0\n",
            "(0, 0, 4, -1)\n",
            "1\n"
          ],
          "name": "stdout"
        },
        {
          "output_type": "display_data",
          "data": {
            "image/png": "[encoded data removed]",
            "text/plain": [
              "<Figure size 432x288 with 1 Axes>"
            ]
          },
          "metadata": {
            "tags": []
          }
        }
      ]
    },
    {
      "cell_type": "code",
      "metadata": {
        "id": "bYeoiY5fbQC3",
        "colab_type": "code",
        "outputId": "0615a8dd-6c6c-46b7-fc0d-3fb706df9716",
        "colab": {
          "base_uri": "https://localhost:8080/",
          "height": 34
        }
      },
      "source": [
        "vecs[0]+vecs[3]"
      ],
      "execution_count": 0,
      "outputs": [
        {
          "output_type": "execute_result",
          "data": {
            "text/plain": [
              "(0, 0, 3, 4, 0, 0, 4, -1)"
            ]
          },
          "metadata": {
            "tags": []
          },
          "execution_count": 46
        }
      ]
    },
    {
      "cell_type": "code",
      "metadata": {
        "id": "OsdWo_aCZRn6",
        "colab_type": "code",
        "colab": {}
      },
      "source": [
        "vecs=[np.asarray([0,0,3,4]),np.asarray([0,0,-3,4]),np.asarray([0,0,-3,-2]),np.asarray([0,0,4,-1])]"
      ],
      "execution_count": 0,
      "outputs": []
    },
    {
      "cell_type": "code",
      "metadata": {
        "id": "-K8CgyXsa-Aa",
        "colab_type": "code",
        "outputId": "6965b8cb-4ac9-46be-a311-40438dea8259",
        "colab": {
          "base_uri": "https://localhost:8080/",
          "height": 337
        }
      },
      "source": [
        "plot_vectors([vecs[0],vecs[3]])"
      ],
      "execution_count": 0,
      "outputs": [
        {
          "output_type": "stream",
          "text": [
            "[0 0 3 4]\n",
            "0\n",
            "[ 0  0  4 -1]\n",
            "1\n"
          ],
          "name": "stdout"
        },
        {
          "output_type": "display_data",
          "data": {
            "image/png": "[encoded data removed]",
            "text/plain": [
              "<Figure size 432x288 with 1 Axes>"
            ]
          },
          "metadata": {
            "tags": []
          }
        }
      ]
    },
    {
      "cell_type": "code",
      "metadata": {
        "id": "C97SD9_Xa-y4",
        "colab_type": "code",
        "outputId": "689f7ce9-cf8c-439c-96df-3cb3c25d53bf",
        "colab": {
          "base_uri": "https://localhost:8080/",
          "height": 34
        }
      },
      "source": [
        "vecs[0]+vecs[3]"
      ],
      "execution_count": 0,
      "outputs": [
        {
          "output_type": "execute_result",
          "data": {
            "text/plain": [
              "array([0, 0, 7, 3])"
            ]
          },
          "metadata": {
            "tags": []
          },
          "execution_count": 49
        }
      ]
    },
    {
      "cell_type": "code",
      "metadata": {
        "id": "HTTpjjvubCn2",
        "colab_type": "code",
        "outputId": "f402d417-78ea-4671-d703-d3cebdef9866",
        "colab": {
          "base_uri": "https://localhost:8080/",
          "height": 371
        }
      },
      "source": [
        "plot_vectors([vecs[0],vecs[3],vecs[0]+vecs[3]])"
      ],
      "execution_count": 0,
      "outputs": [
        {
          "output_type": "stream",
          "text": [
            "[0 0 3 4]\n",
            "0\n",
            "[ 0  0  4 -1]\n",
            "1\n",
            "[0 0 7 3]\n",
            "2\n"
          ],
          "name": "stdout"
        },
        {
          "output_type": "display_data",
          "data": {
            "image/png": "[encoded data removed]",
            "text/plain": [
              "<Figure size 432x288 with 1 Axes>"
            ]
          },
          "metadata": {
            "tags": []
          }
        }
      ]
    },
    {
      "cell_type": "code",
      "metadata": {
        "id": "0fSv7Nmob1GR",
        "colab_type": "code",
        "outputId": "b6456c13-3f7c-4b1a-edc9-79edf976f40a",
        "colab": {
          "base_uri": "https://localhost:8080/",
          "height": 371
        }
      },
      "source": [
        "plot_vectors([vecs[0],vecs[2],vecs[0]+vecs[2]])"
      ],
      "execution_count": 0,
      "outputs": [
        {
          "output_type": "stream",
          "text": [
            "[0 0 3 4]\n",
            "0\n",
            "[ 0  0 -3 -2]\n",
            "1\n",
            "[0 0 0 2]\n",
            "2\n"
          ],
          "name": "stdout"
        },
        {
          "output_type": "display_data",
          "data": {
            "image/png": "[encoded data removed]",
            "text/plain": [
              "<Figure size 432x288 with 1 Axes>"
            ]
          },
          "metadata": {
            "tags": []
          }
        }
      ]
    },
    {
      "cell_type": "code",
      "metadata": {
        "id": "OPo9Jw-1cq4S",
        "colab_type": "code",
        "outputId": "093ef3f1-a767-42f6-afa1-ee49cbffd485",
        "colab": {
          "base_uri": "https://localhost:8080/",
          "height": 371
        }
      },
      "source": [
        "plot_vectors([vecs[0],vecs[1],vecs[0]+vecs[1]])"
      ],
      "execution_count": 0,
      "outputs": [
        {
          "output_type": "stream",
          "text": [
            "[0 0 3 4]\n",
            "0\n",
            "[ 0  0 -3  4]\n",
            "1\n",
            "[0 0 0 8]\n",
            "2\n"
          ],
          "name": "stdout"
        },
        {
          "output_type": "display_data",
          "data": {
            "image/png": "[encoded data removed]",
            "text/plain": [
              "<Figure size 432x288 with 1 Axes>"
            ]
          },
          "metadata": {
            "tags": []
          }
        }
      ]
    },
    {
      "cell_type": "code",
      "metadata": {
        "id": "W2ys0-aSdAyu",
        "colab_type": "code",
        "outputId": "bfcd0381-4563-4bdd-bcfe-4f3106a924c6",
        "colab": {
          "base_uri": "https://localhost:8080/",
          "height": 371
        }
      },
      "source": [
        "plot_vectors([vecs[0],vecs[0],vecs[0]+vecs[0]])"
      ],
      "execution_count": 0,
      "outputs": [
        {
          "output_type": "stream",
          "text": [
            "[0 0 3 4]\n",
            "0\n",
            "[0 0 3 4]\n",
            "1\n",
            "[0 0 6 8]\n",
            "2\n"
          ],
          "name": "stdout"
        },
        {
          "output_type": "display_data",
          "data": {
            "image/png": "[encoded data removed]",
            "text/plain": [
              "<Figure size 432x288 with 1 Axes>"
            ]
          },
          "metadata": {
            "tags": []
          }
        }
      ]
    },
    {
      "cell_type": "code",
      "metadata": {
        "id": "UkP0VWGKdD4r",
        "colab_type": "code",
        "outputId": "07ad74e7-d45b-41f3-9e73-c04de582982e",
        "colab": {
          "base_uri": "https://localhost:8080/",
          "height": 371
        }
      },
      "source": [
        "plot_vectors([vecs[0],vecs[3],vecs[0]-(vecs[3])])"
      ],
      "execution_count": 0,
      "outputs": [
        {
          "output_type": "stream",
          "text": [
            "[0 0 3 4]\n",
            "0\n",
            "[ 0  0  4 -1]\n",
            "1\n",
            "[ 0  0 -1  5]\n",
            "2\n"
          ],
          "name": "stdout"
        },
        {
          "output_type": "display_data",
          "data": {
            "image/png": "[encoded data removed]",
            "text/plain": [
              "<Figure size 432x288 with 1 Axes>"
            ]
          },
          "metadata": {
            "tags": []
          }
        }
      ]
    },
    {
      "cell_type": "code",
      "metadata": {
        "id": "dtblWtEqgkGi",
        "colab_type": "code",
        "outputId": "d07081bc-875d-4dcb-84db-24f09d44c19c",
        "colab": {
          "base_uri": "https://localhost:8080/",
          "height": 371
        }
      },
      "source": [
        "plot_vectors([vecs[0],-vecs[3],vecs[0]+(-vecs[3])])"
      ],
      "execution_count": 0,
      "outputs": [
        {
          "output_type": "stream",
          "text": [
            "[0 0 3 4]\n",
            "0\n",
            "[ 0  0 -4  1]\n",
            "1\n",
            "[ 0  0 -1  5]\n",
            "2\n"
          ],
          "name": "stdout"
        },
        {
          "output_type": "display_data",
          "data": {
            "image/png": "[encoded data removed]",
            "text/plain": [
              "<Figure size 432x288 with 1 Axes>"
            ]
          },
          "metadata": {
            "tags": []
          }
        }
      ]
    },
    {
      "cell_type": "code",
      "metadata": {
        "id": "4Gmxd55vhHFu",
        "colab_type": "code",
        "outputId": "8a806be8-aa5b-4154-97b7-80a887c4daa1",
        "colab": {
          "base_uri": "https://localhost:8080/",
          "height": 371
        }
      },
      "source": [
        "plot_vectors([-vecs[0],vecs[3],-vecs[0]+(-vecs[3])])"
      ],
      "execution_count": 0,
      "outputs": [
        {
          "output_type": "stream",
          "text": [
            "[ 0  0 -3 -4]\n",
            "0\n",
            "[ 0  0  4 -1]\n",
            "1\n",
            "[ 0  0 -7 -3]\n",
            "2\n"
          ],
          "name": "stdout"
        },
        {
          "output_type": "display_data",
          "data": {
            "image/png": "[encoded data removed]",
            "text/plain": [
              "<Figure size 432x288 with 1 Axes>"
            ]
          },
          "metadata": {
            "tags": []
          }
        }
      ]
    },
    {
      "cell_type": "code",
      "metadata": {
        "id": "XTrQ1pAShL1g",
        "colab_type": "code",
        "colab": {}
      },
      "source": [
        ""
      ],
      "execution_count": 0,
      "outputs": []
    },
    {
      "cell_type": "markdown",
      "metadata": {
        "id": "PKymSjzGhyNI",
        "colab_type": "text"
      },
      "source": [
        "#Vectors dot products"
      ]
    },
    {
      "cell_type": "code",
      "metadata": {
        "id": "xJC0Ig49h20i",
        "colab_type": "code",
        "colab": {}
      },
      "source": [
        "vecs=[np.asarray([0,0,3,4]),np.asarray([0,0,-3,4]),np.asarray([0,0,-3,-2]),np.asarray([0,0,4,-1])]"
      ],
      "execution_count": 0,
      "outputs": []
    },
    {
      "cell_type": "code",
      "metadata": {
        "id": "-r9LzEtFh_qJ",
        "colab_type": "code",
        "outputId": "89190f8b-b23b-424d-81e3-248fba8020c9",
        "colab": {
          "base_uri": "https://localhost:8080/",
          "height": 405
        }
      },
      "source": [
        "plot_vectors(vecs)"
      ],
      "execution_count": 0,
      "outputs": [
        {
          "output_type": "stream",
          "text": [
            "[0 0 3 4]\n",
            "0\n",
            "[ 0  0 -3  4]\n",
            "1\n",
            "[ 0  0 -3 -2]\n",
            "2\n",
            "[ 0  0  4 -1]\n",
            "3\n"
          ],
          "name": "stdout"
        },
        {
          "output_type": "display_data",
          "data": {
            "image/png": "[encoded data removed]",
            "text/plain": [
              "<Figure size 432x288 with 1 Axes>"
            ]
          },
          "metadata": {
            "tags": []
          }
        }
      ]
    },
    {
      "cell_type": "code",
      "metadata": {
        "id": "OLcfa4u3iDAi",
        "colab_type": "code",
        "colab": {}
      },
      "source": [
        "a=np.asarray([3,4])\n",
        "b=np.asarray([4,-1])"
      ],
      "execution_count": 0,
      "outputs": []
    },
    {
      "cell_type": "markdown",
      "metadata": {
        "id": "d_ev9fGgikNI",
        "colab_type": "text"
      },
      "source": [
        "$\\vec{a}\\cdot\\vec{b}=|\\vec{a}||\\vec{b}|\\cos{(\\theta)}=a_x.b_x+a_y.b_y$"
      ]
    },
    {
      "cell_type": "code",
      "metadata": {
        "id": "VPTSVrjzijTu",
        "colab_type": "code",
        "colab": {}
      },
      "source": [
        "a_dot_b=np.dot(a,b)"
      ],
      "execution_count": 0,
      "outputs": []
    },
    {
      "cell_type": "code",
      "metadata": {
        "id": "nfY0ISqpkM7H",
        "colab_type": "code",
        "outputId": "3662f96e-66d5-44da-8e8e-0ab32aac43b1",
        "colab": {
          "base_uri": "https://localhost:8080/",
          "height": 34
        }
      },
      "source": [
        "print(a_dot_b)"
      ],
      "execution_count": 0,
      "outputs": [
        {
          "output_type": "stream",
          "text": [
            "8\n"
          ],
          "name": "stdout"
        }
      ]
    },
    {
      "cell_type": "markdown",
      "metadata": {
        "id": "ObXGNxYEk13Y",
        "colab_type": "text"
      },
      "source": [
        "$a_b=|\\vec{a}|\\cos{\\theta}=|\\vec{a}|\\frac{\\vec{a}\\cdot\\vec{b}}{|\\vec{a}||\\vec{b}|}=\\frac{\\vec{a}\\cdot\\vec{b}}{|\\vec{b}|}$"
      ]
    },
    {
      "cell_type": "code",
      "metadata": {
        "id": "CMasLG0vkUzh",
        "colab_type": "code",
        "colab": {}
      },
      "source": [
        "a_b=np.dot(a,b)/np.linalg.norm(b)"
      ],
      "execution_count": 0,
      "outputs": []
    },
    {
      "cell_type": "code",
      "metadata": {
        "id": "vJ0dqS4UnMZN",
        "colab_type": "code",
        "outputId": "59a0c84d-a0f0-4ac2-b0ee-93100667a71b",
        "colab": {
          "base_uri": "https://localhost:8080/",
          "height": 34
        }
      },
      "source": [
        "print(a_b)"
      ],
      "execution_count": 0,
      "outputs": [
        {
          "output_type": "stream",
          "text": [
            "1.9402850002906638\n"
          ],
          "name": "stdout"
        }
      ]
    },
    {
      "cell_type": "code",
      "metadata": {
        "id": "pEn8tsignPi9",
        "colab_type": "code",
        "colab": {}
      },
      "source": [
        ""
      ],
      "execution_count": 0,
      "outputs": []
    },
    {
      "cell_type": "markdown",
      "metadata": {
        "id": "gbKDcH6jnmDt",
        "colab_type": "text"
      },
      "source": [
        "Unit vector along direction b\n",
        "\n",
        "$\\vec{a_b}=a_b\\hat{b}=a_b\\frac{\\vec{b}}{|\\vec{b}|}$"
      ]
    },
    {
      "cell_type": "code",
      "metadata": {
        "id": "imuCr64wodss",
        "colab_type": "code",
        "colab": {}
      },
      "source": [
        "vec_a_b=(a_b/np.linalg.norm(b))*b"
      ],
      "execution_count": 0,
      "outputs": []
    },
    {
      "cell_type": "code",
      "metadata": {
        "id": "UBbSd3BEpdCu",
        "colab_type": "code",
        "colab": {}
      },
      "source": [
        "print(vec_a_b)"
      ],
      "execution_count": 0,
      "outputs": []
    },
    {
      "cell_type": "code",
      "metadata": {
        "id": "JL6DUumZpmNJ",
        "colab_type": "code",
        "outputId": "089f01fd-31a9-4cfe-b2a3-3457603528e1",
        "colab": {
          "base_uri": "https://localhost:8080/",
          "height": 371
        }
      },
      "source": [
        "plot_vectors([np.asarray([0,0,3,4]),np.asarray([0,0,4,-1]),np.asarray([0,0,1.88235294, -0.47058824])])"
      ],
      "execution_count": 0,
      "outputs": [
        {
          "output_type": "stream",
          "text": [
            "[0 0 3 4]\n",
            "0\n",
            "[ 0  0  4 -1]\n",
            "1\n",
            "[ 0.          0.          1.88235294 -0.47058824]\n",
            "2\n"
          ],
          "name": "stdout"
        },
        {
          "output_type": "display_data",
          "data": {
            "image/png": "[encoded data removed]",
            "text/plain": [
              "<Figure size 432x288 with 1 Axes>"
            ]
          },
          "metadata": {
            "tags": []
          }
        }
      ]
    },
    {
      "cell_type": "code",
      "metadata": {
        "id": "5jEmo33tqdbz",
        "colab_type": "code",
        "colab": {}
      },
      "source": [
        ""
      ],
      "execution_count": 0,
      "outputs": []
    },
    {
      "cell_type": "markdown",
      "metadata": {
        "id": "5UOnRaSX2arB",
        "colab_type": "text"
      },
      "source": [
        "Projection of b on a\n",
        "\n",
        "$b_a= |\\vec{b}|\\cos{\\theta}=|\\vec{b}|\\frac{\\vec{a}\\cdot\\vec{b}}{|\\vec{a}||\\vec{b}|}=\\frac{\\vec{a}\\cdot\\vec{b}}{|\\vec{a}|}$\n"
      ]
    },
    {
      "cell_type": "code",
      "metadata": {
        "id": "B4euYHpU4kTC",
        "colab_type": "code",
        "colab": {}
      },
      "source": [
        "b_a=np.dot(a,b)/np.linalg.norm(a)"
      ],
      "execution_count": 0,
      "outputs": []
    },
    {
      "cell_type": "code",
      "metadata": {
        "id": "emypRSEM42GN",
        "colab_type": "code",
        "outputId": "46ba743c-7509-4bcc-d2e9-8090d695051a",
        "colab": {
          "base_uri": "https://localhost:8080/",
          "height": 34
        }
      },
      "source": [
        "print(b_a)"
      ],
      "execution_count": 0,
      "outputs": [
        {
          "output_type": "stream",
          "text": [
            "1.6\n"
          ],
          "name": "stdout"
        }
      ]
    },
    {
      "cell_type": "code",
      "metadata": {
        "id": "tvFnn_7h46TU",
        "colab_type": "code",
        "colab": {}
      },
      "source": [
        ""
      ],
      "execution_count": 0,
      "outputs": []
    },
    {
      "cell_type": "markdown",
      "metadata": {
        "id": "hU3vuhQz6o3M",
        "colab_type": "text"
      },
      "source": [
        "Unit vector along direction a\n",
        "\n",
        "$ \\vec{b}=b_a\\hat{a}=b_a\\frac{\\vec{a}}{|\\vec{a}|}$"
      ]
    },
    {
      "cell_type": "code",
      "metadata": {
        "id": "jU-DMEH87jzi",
        "colab_type": "code",
        "colab": {}
      },
      "source": [
        "b_vec_a=(b_a/np.linalg.norm(a))*a"
      ],
      "execution_count": 0,
      "outputs": []
    },
    {
      "cell_type": "code",
      "metadata": {
        "id": "IqO9mzE38Ksn",
        "colab_type": "code",
        "outputId": "a3eb8deb-a0d1-4994-f477-4a8c652847d8",
        "colab": {
          "base_uri": "https://localhost:8080/",
          "height": 34
        }
      },
      "source": [
        "print(b_vec_a)"
      ],
      "execution_count": 0,
      "outputs": [
        {
          "output_type": "stream",
          "text": [
            "[0.96 1.28]\n"
          ],
          "name": "stdout"
        }
      ]
    },
    {
      "cell_type": "code",
      "metadata": {
        "id": "6mujj2e48Q7Z",
        "colab_type": "code",
        "outputId": "1526557a-12e2-41f1-f0ca-f30b7cd3f1a9",
        "colab": {
          "base_uri": "https://localhost:8080/",
          "height": 371
        }
      },
      "source": [
        "plot_vectors([np.asarray([0,0,3,4]),np.asarray([0,0,4,-1]),np.asarray([0,0,0.96 ,1.28])])"
      ],
      "execution_count": 0,
      "outputs": [
        {
          "output_type": "stream",
          "text": [
            "[0 0 3 4]\n",
            "0\n",
            "[ 0  0  4 -1]\n",
            "1\n",
            "[0.   0.   0.96 1.28]\n",
            "2\n"
          ],
          "name": "stdout"
        },
        {
          "output_type": "display_data",
          "data": {
            "image/png": "[encoded data removed]",
            "text/plain": [
              "<Figure size 432x288 with 1 Axes>"
            ]
          },
          "metadata": {
            "tags": []
          }
        }
      ]
    },
    {
      "cell_type": "code",
      "metadata": {
        "id": "c8U7gpk88jHO",
        "colab_type": "code",
        "outputId": "7300ead1-7cec-426c-adfe-ed240ec5dbae",
        "colab": {
          "base_uri": "https://localhost:8080/",
          "height": 405
        }
      },
      "source": [
        "plot_vectors([(4,6,3,4),(2,0,-3,4),(5,2,-3,-2),(4,-2,4,-1)])"
      ],
      "execution_count": 0,
      "outputs": [
        {
          "output_type": "stream",
          "text": [
            "(4, 6, 3, 4)\n",
            "0\n",
            "(2, 0, -3, 4)\n",
            "1\n",
            "(5, 2, -3, -2)\n",
            "2\n",
            "(4, -2, 4, -1)\n",
            "3\n"
          ],
          "name": "stdout"
        },
        {
          "output_type": "display_data",
          "data": {
            "image/png": "[encoded data removed]",
            "text/plain": [
              "<Figure size 432x288 with 1 Axes>"
            ]
          },
          "metadata": {
            "tags": []
          }
        }
      ]
    },
    {
      "cell_type": "code",
      "metadata": {
        "id": "97QYJjrOFpFm",
        "colab_type": "code",
        "colab": {}
      },
      "source": [
        ""
      ],
      "execution_count": 0,
      "outputs": []
    }
  ]
}